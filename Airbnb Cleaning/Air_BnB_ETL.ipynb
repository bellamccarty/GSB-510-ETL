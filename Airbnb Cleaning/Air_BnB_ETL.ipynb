{
 "cells": [
  {
   "metadata": {},
   "cell_type": "raw",
   "source": [
    "---\n",
    "title: \"Air BnB Listings ETL\"\n",
    "author: \"GSB 510 Group 4\"\n",
    "date: \"03-02-2025\"\n",
    "format: \n",
    "  html:\n",
    "    toc: true\n",
    "    code-fold: true\n",
    "    theme: minty\n",
    "    code-line-numbers: true\n",
    "    code-tools: true\n",
    "    self-contained: true\n",
    "execute:\n",
    "  message: false\n",
    "  warning: false\n",
    "---"
   ],
   "id": "13683d61f531066"
  },
  {
   "metadata": {},
   "cell_type": "markdown",
   "source": [
    "# Airbnb Listings ETL\n",
    "This notebook performs an **Extract, Transform, Load (ETL)** process on Airbnb listings data."
   ],
   "id": "f48b16e9323f2967"
  },
  {
   "metadata": {},
   "cell_type": "markdown",
   "source": [
    "## 1. Import Libraries\n",
    "We begin by importing necessary Python libraries for data manipulation and analysis."
   ],
   "id": "a1511b207543d70d"
  },
  {
   "cell_type": "code",
   "id": "initial_id",
   "metadata": {
    "collapsed": true,
    "ExecuteTime": {
     "end_time": "2025-03-03T03:40:03.694702Z",
     "start_time": "2025-03-03T03:40:03.691776Z"
    }
   },
   "source": [
    "import re\n",
    "import pandas as pd\n",
    "import numpy as np"
   ],
   "outputs": [],
   "execution_count": 38
  },
  {
   "metadata": {},
   "cell_type": "markdown",
   "source": [
    "## 2. Load the Data\n",
    "We read the Airbnb listings dataset from a CSV file. The separator used in the file is `;`, which needs to be specified."
   ],
   "id": "7b482069ac11adaf"
  },
  {
   "metadata": {
    "ExecuteTime": {
     "end_time": "2025-03-03T03:40:07.101005Z",
     "start_time": "2025-03-03T03:40:03.710736Z"
    }
   },
   "cell_type": "code",
   "source": [
    "air_bnb_data = pd.read_csv(r\"C:\\Users\\isabe\\PycharmProjects\\GSB-520-ETL\\Data\\air-bnb-listings.csv\",\n",
    "                           sep = \";\")"
   ],
   "id": "e2910220e040ea6",
   "outputs": [],
   "execution_count": 39
  },
  {
   "metadata": {},
   "cell_type": "markdown",
   "source": [
    "## 3. Preview the Data\n",
    "We display the first few rows to understand the dataset structure."
   ],
   "id": "4de29f415595b3cc"
  },
  {
   "metadata": {
    "ExecuteTime": {
     "end_time": "2025-03-03T03:40:07.122921Z",
     "start_time": "2025-03-03T03:40:07.114407Z"
    }
   },
   "cell_type": "code",
   "source": "air_bnb_data.head()",
   "id": "80268375258a5e3f",
   "outputs": [
    {
     "data": {
      "text/plain": [
       "   Room ID                                Name   Host ID   Neighbourhood  \\\n",
       "0  9153958  .2 La Casa sui Tetti dell'Oltrarno  47655975  Centro Storico   \n",
       "1  9191572         Firenze Studio Porta Romana  47816872  Centro Storico   \n",
       "2  9306481   ELEGANT FLAT FLORENCE CITY CENTER  42112573  Centro Storico   \n",
       "3  9524225     Luxury Modern Studio - Florence  11065786  Campo di Marte   \n",
       "4  9602552                 Florence is a dream    956926  Campo di Marte   \n",
       "\n",
       "         Room type  Room Price  Minimum nights  Number of reviews  \\\n",
       "0  Entire home/apt          50               1                363   \n",
       "1  Entire home/apt          70               2                 46   \n",
       "2  Entire home/apt         120               2                132   \n",
       "3  Entire home/apt          75               3                 56   \n",
       "4  Entire home/apt          50               2                 24   \n",
       "\n",
       "  Date last review  Number of reviews per month  Rooms rent by the host  \\\n",
       "0       2020-02-17                         6.69                       2   \n",
       "1       2018-03-15                         0.83                       1   \n",
       "2       2020-01-29                         2.42                       1   \n",
       "3       2019-12-30                         1.01                       5   \n",
       "4       2018-10-27                         0.44                       1   \n",
       "\n",
       "   Availibility Updated Date      City Country  \\\n",
       "0             0   2020-06-19  Florence   Italy   \n",
       "1           364   2020-06-19  Florence   Italy   \n",
       "2           270   2020-06-19  Florence   Italy   \n",
       "3           364   2020-06-19  Florence   Italy   \n",
       "4           365   2020-06-19  Florence   Italy   \n",
       "\n",
       "                              Coordinates                         Location  \n",
       "0    43.76678908298443, 11.24589003597409  Italy, Florence, Centro Storico  \n",
       "1    43.76544742217545, 11.24254982481698  Italy, Florence, Centro Storico  \n",
       "2  43.779967029995476, 11.261314413194068  Italy, Florence, Centro Storico  \n",
       "3   43.76815640280208, 11.275230547227133  Italy, Florence, Campo di Marte  \n",
       "4   43.78809311664643, 11.273347846180846  Italy, Florence, Campo di Marte  "
      ],
      "text/html": [
       "<div>\n",
       "<style scoped>\n",
       "    .dataframe tbody tr th:only-of-type {\n",
       "        vertical-align: middle;\n",
       "    }\n",
       "\n",
       "    .dataframe tbody tr th {\n",
       "        vertical-align: top;\n",
       "    }\n",
       "\n",
       "    .dataframe thead th {\n",
       "        text-align: right;\n",
       "    }\n",
       "</style>\n",
       "<table border=\"1\" class=\"dataframe\">\n",
       "  <thead>\n",
       "    <tr style=\"text-align: right;\">\n",
       "      <th></th>\n",
       "      <th>Room ID</th>\n",
       "      <th>Name</th>\n",
       "      <th>Host ID</th>\n",
       "      <th>Neighbourhood</th>\n",
       "      <th>Room type</th>\n",
       "      <th>Room Price</th>\n",
       "      <th>Minimum nights</th>\n",
       "      <th>Number of reviews</th>\n",
       "      <th>Date last review</th>\n",
       "      <th>Number of reviews per month</th>\n",
       "      <th>Rooms rent by the host</th>\n",
       "      <th>Availibility</th>\n",
       "      <th>Updated Date</th>\n",
       "      <th>City</th>\n",
       "      <th>Country</th>\n",
       "      <th>Coordinates</th>\n",
       "      <th>Location</th>\n",
       "    </tr>\n",
       "  </thead>\n",
       "  <tbody>\n",
       "    <tr>\n",
       "      <th>0</th>\n",
       "      <td>9153958</td>\n",
       "      <td>.2 La Casa sui Tetti dell'Oltrarno</td>\n",
       "      <td>47655975</td>\n",
       "      <td>Centro Storico</td>\n",
       "      <td>Entire home/apt</td>\n",
       "      <td>50</td>\n",
       "      <td>1</td>\n",
       "      <td>363</td>\n",
       "      <td>2020-02-17</td>\n",
       "      <td>6.69</td>\n",
       "      <td>2</td>\n",
       "      <td>0</td>\n",
       "      <td>2020-06-19</td>\n",
       "      <td>Florence</td>\n",
       "      <td>Italy</td>\n",
       "      <td>43.76678908298443, 11.24589003597409</td>\n",
       "      <td>Italy, Florence, Centro Storico</td>\n",
       "    </tr>\n",
       "    <tr>\n",
       "      <th>1</th>\n",
       "      <td>9191572</td>\n",
       "      <td>Firenze Studio Porta Romana</td>\n",
       "      <td>47816872</td>\n",
       "      <td>Centro Storico</td>\n",
       "      <td>Entire home/apt</td>\n",
       "      <td>70</td>\n",
       "      <td>2</td>\n",
       "      <td>46</td>\n",
       "      <td>2018-03-15</td>\n",
       "      <td>0.83</td>\n",
       "      <td>1</td>\n",
       "      <td>364</td>\n",
       "      <td>2020-06-19</td>\n",
       "      <td>Florence</td>\n",
       "      <td>Italy</td>\n",
       "      <td>43.76544742217545, 11.24254982481698</td>\n",
       "      <td>Italy, Florence, Centro Storico</td>\n",
       "    </tr>\n",
       "    <tr>\n",
       "      <th>2</th>\n",
       "      <td>9306481</td>\n",
       "      <td>ELEGANT FLAT FLORENCE CITY CENTER</td>\n",
       "      <td>42112573</td>\n",
       "      <td>Centro Storico</td>\n",
       "      <td>Entire home/apt</td>\n",
       "      <td>120</td>\n",
       "      <td>2</td>\n",
       "      <td>132</td>\n",
       "      <td>2020-01-29</td>\n",
       "      <td>2.42</td>\n",
       "      <td>1</td>\n",
       "      <td>270</td>\n",
       "      <td>2020-06-19</td>\n",
       "      <td>Florence</td>\n",
       "      <td>Italy</td>\n",
       "      <td>43.779967029995476, 11.261314413194068</td>\n",
       "      <td>Italy, Florence, Centro Storico</td>\n",
       "    </tr>\n",
       "    <tr>\n",
       "      <th>3</th>\n",
       "      <td>9524225</td>\n",
       "      <td>Luxury Modern Studio - Florence</td>\n",
       "      <td>11065786</td>\n",
       "      <td>Campo di Marte</td>\n",
       "      <td>Entire home/apt</td>\n",
       "      <td>75</td>\n",
       "      <td>3</td>\n",
       "      <td>56</td>\n",
       "      <td>2019-12-30</td>\n",
       "      <td>1.01</td>\n",
       "      <td>5</td>\n",
       "      <td>364</td>\n",
       "      <td>2020-06-19</td>\n",
       "      <td>Florence</td>\n",
       "      <td>Italy</td>\n",
       "      <td>43.76815640280208, 11.275230547227133</td>\n",
       "      <td>Italy, Florence, Campo di Marte</td>\n",
       "    </tr>\n",
       "    <tr>\n",
       "      <th>4</th>\n",
       "      <td>9602552</td>\n",
       "      <td>Florence is a dream</td>\n",
       "      <td>956926</td>\n",
       "      <td>Campo di Marte</td>\n",
       "      <td>Entire home/apt</td>\n",
       "      <td>50</td>\n",
       "      <td>2</td>\n",
       "      <td>24</td>\n",
       "      <td>2018-10-27</td>\n",
       "      <td>0.44</td>\n",
       "      <td>1</td>\n",
       "      <td>365</td>\n",
       "      <td>2020-06-19</td>\n",
       "      <td>Florence</td>\n",
       "      <td>Italy</td>\n",
       "      <td>43.78809311664643, 11.273347846180846</td>\n",
       "      <td>Italy, Florence, Campo di Marte</td>\n",
       "    </tr>\n",
       "  </tbody>\n",
       "</table>\n",
       "</div>"
      ]
     },
     "execution_count": 40,
     "metadata": {},
     "output_type": "execute_result"
    }
   ],
   "execution_count": 40
  },
  {
   "metadata": {},
   "cell_type": "markdown",
   "source": [
    "## 4. Analyze Country Distribution\n",
    "We count the number of listings per country."
   ],
   "id": "da10ab703be720"
  },
  {
   "metadata": {
    "ExecuteTime": {
     "end_time": "2025-03-03T03:40:07.200782Z",
     "start_time": "2025-03-03T03:40:07.153587Z"
    }
   },
   "cell_type": "code",
   "source": "air_bnb_data[\"Country\"].value_counts()",
   "id": "a2eb865ec0efcd05",
   "outputs": [
    {
     "data": {
      "text/plain": [
       "Country\n",
       "United states     240662\n",
       "Italy             179607\n",
       "Spain             109219\n",
       "United kingdom    103964\n",
       "France             90621\n",
       "Australia          89580\n",
       "China              88885\n",
       "Greece             57646\n",
       "Canada             56659\n",
       "Ireland            35996\n",
       "Germany            35985\n",
       "Portugal           35965\n",
       "Brazil             35731\n",
       "Denmark            28523\n",
       "Argentina          24134\n",
       "South africa       24062\n",
       "Turkey             23728\n",
       "Mexico             21824\n",
       "Netherlands        19450\n",
       "Chile              15970\n",
       "Japan              14715\n",
       "Austria            12974\n",
       "Belgium            12808\n",
       "Czech republic     12565\n",
       "Norway              8830\n",
       "Taiwan              8103\n",
       "Switzerland         7894\n",
       "Sweden              7635\n",
       "Singapore           7323\n",
       "Belize              2960\n",
       "Name: count, dtype: int64"
      ]
     },
     "execution_count": 41,
     "metadata": {},
     "output_type": "execute_result"
    }
   ],
   "execution_count": 41
  },
  {
   "metadata": {},
   "cell_type": "markdown",
   "source": [
    "## 5. Filter down to U.S. Data\n",
    "We filter the listings down to those located in the United States. "
   ],
   "id": "6640d76f7ffccdbe"
  },
  {
   "metadata": {
    "ExecuteTime": {
     "end_time": "2025-03-03T03:40:07.317923Z",
     "start_time": "2025-03-03T03:40:07.236856Z"
    }
   },
   "cell_type": "code",
   "source": "us_airbnb = air_bnb_data[air_bnb_data[\"Country\"] == \"United states\"]",
   "id": "5b37baead71e7503",
   "outputs": [],
   "execution_count": 42
  },
  {
   "metadata": {
    "ExecuteTime": {
     "end_time": "2025-03-03T03:40:07.342801Z",
     "start_time": "2025-03-03T03:40:07.334280Z"
    }
   },
   "cell_type": "code",
   "source": "us_airbnb.head()",
   "id": "b1d17797b6019a01",
   "outputs": [
    {
     "data": {
      "text/plain": [
       "      Room ID                                               Name   Host ID  \\\n",
       "2418   575758                              a REAL warehouse LOFT   2832150   \n",
       "2419  1041934                Private apt in Berkeley, MTN Views!   5811115   \n",
       "2420  1311993  Downtown Apt - Clean & Convenient! Brooks Towe...   6658113   \n",
       "2421  1557739                      Full bed with shared bathroom   8289288   \n",
       "2422  3338717                Private basement apartment on park.  16853725   \n",
       "\n",
       "     Neighbourhood        Room type  Room Price  Minimum nights  \\\n",
       "2418   Five Points  Entire home/apt         200             180   \n",
       "2419      Berkeley  Entire home/apt         215              30   \n",
       "2420           CBD  Entire home/apt          90              30   \n",
       "2421          Cole     Private room          60              30   \n",
       "2422      Rosedale  Entire home/apt          90               2   \n",
       "\n",
       "      Number of reviews Date last review  Number of reviews per month  \\\n",
       "2418                 38       2017-01-09                         0.51   \n",
       "2419                 27       2019-12-02                         0.32   \n",
       "2420                  7       2017-06-03                         0.09   \n",
       "2421                125       2019-06-15                         1.66   \n",
       "2422                 92       2020-06-13                         1.26   \n",
       "\n",
       "      Rooms rent by the host  Availibility Updated Date    City  \\\n",
       "2418                       1             0   2020-06-28  Denver   \n",
       "2419                       7           247   2020-06-28  Denver   \n",
       "2420                      22           317   2020-06-28  Denver   \n",
       "2421                       7             0   2020-06-28  Denver   \n",
       "2422                       1           306   2020-06-28  Denver   \n",
       "\n",
       "            Country                              Coordinates  \\\n",
       "2418  United states  39.767916331935616, -104.97976015587257   \n",
       "2419  United states   39.78122240894239, -105.03904720467456   \n",
       "2420  United states   39.74651081035565, -104.99583469460369   \n",
       "2421  United states   39.76278786287324, -104.97123079202251   \n",
       "2422  United states  39.675036382043245, -104.97842716027984   \n",
       "\n",
       "                                Location  \n",
       "2418  United states, Denver, Five Points  \n",
       "2419     United states, Denver, Berkeley  \n",
       "2420          United states, Denver, CBD  \n",
       "2421         United states, Denver, Cole  \n",
       "2422     United states, Denver, Rosedale  "
      ],
      "text/html": [
       "<div>\n",
       "<style scoped>\n",
       "    .dataframe tbody tr th:only-of-type {\n",
       "        vertical-align: middle;\n",
       "    }\n",
       "\n",
       "    .dataframe tbody tr th {\n",
       "        vertical-align: top;\n",
       "    }\n",
       "\n",
       "    .dataframe thead th {\n",
       "        text-align: right;\n",
       "    }\n",
       "</style>\n",
       "<table border=\"1\" class=\"dataframe\">\n",
       "  <thead>\n",
       "    <tr style=\"text-align: right;\">\n",
       "      <th></th>\n",
       "      <th>Room ID</th>\n",
       "      <th>Name</th>\n",
       "      <th>Host ID</th>\n",
       "      <th>Neighbourhood</th>\n",
       "      <th>Room type</th>\n",
       "      <th>Room Price</th>\n",
       "      <th>Minimum nights</th>\n",
       "      <th>Number of reviews</th>\n",
       "      <th>Date last review</th>\n",
       "      <th>Number of reviews per month</th>\n",
       "      <th>Rooms rent by the host</th>\n",
       "      <th>Availibility</th>\n",
       "      <th>Updated Date</th>\n",
       "      <th>City</th>\n",
       "      <th>Country</th>\n",
       "      <th>Coordinates</th>\n",
       "      <th>Location</th>\n",
       "    </tr>\n",
       "  </thead>\n",
       "  <tbody>\n",
       "    <tr>\n",
       "      <th>2418</th>\n",
       "      <td>575758</td>\n",
       "      <td>a REAL warehouse LOFT</td>\n",
       "      <td>2832150</td>\n",
       "      <td>Five Points</td>\n",
       "      <td>Entire home/apt</td>\n",
       "      <td>200</td>\n",
       "      <td>180</td>\n",
       "      <td>38</td>\n",
       "      <td>2017-01-09</td>\n",
       "      <td>0.51</td>\n",
       "      <td>1</td>\n",
       "      <td>0</td>\n",
       "      <td>2020-06-28</td>\n",
       "      <td>Denver</td>\n",
       "      <td>United states</td>\n",
       "      <td>39.767916331935616, -104.97976015587257</td>\n",
       "      <td>United states, Denver, Five Points</td>\n",
       "    </tr>\n",
       "    <tr>\n",
       "      <th>2419</th>\n",
       "      <td>1041934</td>\n",
       "      <td>Private apt in Berkeley, MTN Views!</td>\n",
       "      <td>5811115</td>\n",
       "      <td>Berkeley</td>\n",
       "      <td>Entire home/apt</td>\n",
       "      <td>215</td>\n",
       "      <td>30</td>\n",
       "      <td>27</td>\n",
       "      <td>2019-12-02</td>\n",
       "      <td>0.32</td>\n",
       "      <td>7</td>\n",
       "      <td>247</td>\n",
       "      <td>2020-06-28</td>\n",
       "      <td>Denver</td>\n",
       "      <td>United states</td>\n",
       "      <td>39.78122240894239, -105.03904720467456</td>\n",
       "      <td>United states, Denver, Berkeley</td>\n",
       "    </tr>\n",
       "    <tr>\n",
       "      <th>2420</th>\n",
       "      <td>1311993</td>\n",
       "      <td>Downtown Apt - Clean &amp; Convenient! Brooks Towe...</td>\n",
       "      <td>6658113</td>\n",
       "      <td>CBD</td>\n",
       "      <td>Entire home/apt</td>\n",
       "      <td>90</td>\n",
       "      <td>30</td>\n",
       "      <td>7</td>\n",
       "      <td>2017-06-03</td>\n",
       "      <td>0.09</td>\n",
       "      <td>22</td>\n",
       "      <td>317</td>\n",
       "      <td>2020-06-28</td>\n",
       "      <td>Denver</td>\n",
       "      <td>United states</td>\n",
       "      <td>39.74651081035565, -104.99583469460369</td>\n",
       "      <td>United states, Denver, CBD</td>\n",
       "    </tr>\n",
       "    <tr>\n",
       "      <th>2421</th>\n",
       "      <td>1557739</td>\n",
       "      <td>Full bed with shared bathroom</td>\n",
       "      <td>8289288</td>\n",
       "      <td>Cole</td>\n",
       "      <td>Private room</td>\n",
       "      <td>60</td>\n",
       "      <td>30</td>\n",
       "      <td>125</td>\n",
       "      <td>2019-06-15</td>\n",
       "      <td>1.66</td>\n",
       "      <td>7</td>\n",
       "      <td>0</td>\n",
       "      <td>2020-06-28</td>\n",
       "      <td>Denver</td>\n",
       "      <td>United states</td>\n",
       "      <td>39.76278786287324, -104.97123079202251</td>\n",
       "      <td>United states, Denver, Cole</td>\n",
       "    </tr>\n",
       "    <tr>\n",
       "      <th>2422</th>\n",
       "      <td>3338717</td>\n",
       "      <td>Private basement apartment on park.</td>\n",
       "      <td>16853725</td>\n",
       "      <td>Rosedale</td>\n",
       "      <td>Entire home/apt</td>\n",
       "      <td>90</td>\n",
       "      <td>2</td>\n",
       "      <td>92</td>\n",
       "      <td>2020-06-13</td>\n",
       "      <td>1.26</td>\n",
       "      <td>1</td>\n",
       "      <td>306</td>\n",
       "      <td>2020-06-28</td>\n",
       "      <td>Denver</td>\n",
       "      <td>United states</td>\n",
       "      <td>39.675036382043245, -104.97842716027984</td>\n",
       "      <td>United states, Denver, Rosedale</td>\n",
       "    </tr>\n",
       "  </tbody>\n",
       "</table>\n",
       "</div>"
      ]
     },
     "execution_count": 43,
     "metadata": {},
     "output_type": "execute_result"
    }
   ],
   "execution_count": 43
  },
  {
   "metadata": {},
   "cell_type": "markdown",
   "source": [
    "## 6. Process Location Data\n",
    "We extract latitude and longitude from the 'Coordinates' column and convert them to numerical values."
   ],
   "id": "3dabe97171b69b91"
  },
  {
   "metadata": {
    "ExecuteTime": {
     "end_time": "2025-03-03T03:40:07.893964Z",
     "start_time": "2025-03-03T03:40:07.378523Z"
    }
   },
   "cell_type": "code",
   "source": [
    "# Splitting the 'Coordinates' column into 'Latitude' and 'Longitude'\n",
    "us_airbnb[['Latitude', 'Longitude']] = us_airbnb['Coordinates'].str.split(', ', expand=True)\n",
    "\n",
    "# Convert Latitude and Longitude to float for numerical operations\n",
    "us_airbnb.loc[:, 'Latitude'] = us_airbnb['Latitude'].astype(float)\n",
    "us_airbnb.loc[:, 'Longitude'] = us_airbnb['Longitude'].astype(float)\n",
    "\n",
    "# Dropping the original 'Coordinates' column\n",
    "us_airbnb.drop(columns=['Coordinates'], inplace=True)"
   ],
   "id": "4b89c7e042f53719",
   "outputs": [
    {
     "name": "stderr",
     "output_type": "stream",
     "text": [
      "C:\\Users\\isabe\\AppData\\Local\\Temp\\ipykernel_24532\\1967335914.py:2: SettingWithCopyWarning: \n",
      "A value is trying to be set on a copy of a slice from a DataFrame.\n",
      "Try using .loc[row_indexer,col_indexer] = value instead\n",
      "\n",
      "See the caveats in the documentation: https://pandas.pydata.org/pandas-docs/stable/user_guide/indexing.html#returning-a-view-versus-a-copy\n",
      "  us_airbnb[['Latitude', 'Longitude']] = us_airbnb['Coordinates'].str.split(', ', expand=True)\n",
      "C:\\Users\\isabe\\AppData\\Local\\Temp\\ipykernel_24532\\1967335914.py:2: SettingWithCopyWarning: \n",
      "A value is trying to be set on a copy of a slice from a DataFrame.\n",
      "Try using .loc[row_indexer,col_indexer] = value instead\n",
      "\n",
      "See the caveats in the documentation: https://pandas.pydata.org/pandas-docs/stable/user_guide/indexing.html#returning-a-view-versus-a-copy\n",
      "  us_airbnb[['Latitude', 'Longitude']] = us_airbnb['Coordinates'].str.split(', ', expand=True)\n",
      "C:\\Users\\isabe\\AppData\\Local\\Temp\\ipykernel_24532\\1967335914.py:9: SettingWithCopyWarning: \n",
      "A value is trying to be set on a copy of a slice from a DataFrame\n",
      "\n",
      "See the caveats in the documentation: https://pandas.pydata.org/pandas-docs/stable/user_guide/indexing.html#returning-a-view-versus-a-copy\n",
      "  us_airbnb.drop(columns=['Coordinates'], inplace=True)\n"
     ]
    }
   ],
   "execution_count": 44
  },
  {
   "metadata": {},
   "cell_type": "markdown",
   "source": [
    "## 7. Standardize City Names\n",
    "We clean and standardize city names by replacing hyphens with spaces, capitalizing abbreviations, and removing unnecessary state abbreviations."
   ],
   "id": "8b455a3096a549ce"
  },
  {
   "metadata": {
    "ExecuteTime": {
     "end_time": "2025-03-03T03:40:08.231093Z",
     "start_time": "2025-03-03T03:40:07.915939Z"
    }
   },
   "cell_type": "code",
   "source": [
    "# Clean the city names: replace hyphens with spaces and convert to title case\n",
    "us_airbnb['City'] = us_airbnb['City'].str.replace(\"-\", \" \").str.title()\n",
    "\n",
    "# Define a mapping for abbreviations that should be fully capitalized.\n",
    "abbrev_map = {\n",
    "    'Dc': 'DC',\n",
    "    'Nv': 'NV',\n",
    "    'Msa': 'MSA',\n",
    "    'Or': 'OR'\n",
    "}\n",
    "\n",
    "def capitalize_abbrev(city):\n",
    "    # Split the city name into words\n",
    "    words = city.split()\n",
    "    # Replace any word found in our abbreviation map with its uppercase version\n",
    "    words = [abbrev_map.get(word, word) for word in words]\n",
    "    # Rejoin the words into a string\n",
    "    return \" \".join(words)\n",
    "\n",
    "# Apply the function to the cleaned city names\n",
    "us_airbnb['City'] = us_airbnb['City'].apply(capitalize_abbrev)\n",
    "\n",
    "# Adjust specific city names (e.g., \"New York City\" to \"New York\")\n",
    "def adjust_city_name(city):\n",
    "    if city == \"New York City\":\n",
    "        return \"New York\"\n",
    "    return city\n",
    "\n",
    "us_airbnb['City'] = us_airbnb['City'].apply(adjust_city_name)\n",
    "\n",
    "def drop_state(city):\n",
    "    \"\"\"\n",
    "    Remove a trailing state abbreviation (a space followed by 2+ uppercase letters)\n",
    "    from the city name unless the city is \"Washington DC\".\n",
    "    \"\"\"\n",
    "    # If the city is \"Washington DC\", keep it as-is (case-insensitive comparison)\n",
    "    if city.strip().lower() == \"washington dc\":\n",
    "        return str('Washington, D.C.')\n",
    "    # Otherwise, remove trailing state abbreviation\n",
    "    return re.sub(r'\\s+[A-Z]{2,}$', '', city)\n",
    "\n",
    "# Apply the function to the 'City' column and store the result in a new column\n",
    "us_airbnb[\"City\"] = us_airbnb[\"City\"].apply(drop_state)"
   ],
   "id": "4a5531c0de15b6c7",
   "outputs": [
    {
     "name": "stderr",
     "output_type": "stream",
     "text": [
      "C:\\Users\\isabe\\AppData\\Local\\Temp\\ipykernel_24532\\2834902002.py:2: SettingWithCopyWarning: \n",
      "A value is trying to be set on a copy of a slice from a DataFrame.\n",
      "Try using .loc[row_indexer,col_indexer] = value instead\n",
      "\n",
      "See the caveats in the documentation: https://pandas.pydata.org/pandas-docs/stable/user_guide/indexing.html#returning-a-view-versus-a-copy\n",
      "  us_airbnb['City'] = us_airbnb['City'].str.replace(\"-\", \" \").str.title()\n",
      "C:\\Users\\isabe\\AppData\\Local\\Temp\\ipykernel_24532\\2834902002.py:21: SettingWithCopyWarning: \n",
      "A value is trying to be set on a copy of a slice from a DataFrame.\n",
      "Try using .loc[row_indexer,col_indexer] = value instead\n",
      "\n",
      "See the caveats in the documentation: https://pandas.pydata.org/pandas-docs/stable/user_guide/indexing.html#returning-a-view-versus-a-copy\n",
      "  us_airbnb['City'] = us_airbnb['City'].apply(capitalize_abbrev)\n",
      "C:\\Users\\isabe\\AppData\\Local\\Temp\\ipykernel_24532\\2834902002.py:29: SettingWithCopyWarning: \n",
      "A value is trying to be set on a copy of a slice from a DataFrame.\n",
      "Try using .loc[row_indexer,col_indexer] = value instead\n",
      "\n",
      "See the caveats in the documentation: https://pandas.pydata.org/pandas-docs/stable/user_guide/indexing.html#returning-a-view-versus-a-copy\n",
      "  us_airbnb['City'] = us_airbnb['City'].apply(adjust_city_name)\n",
      "C:\\Users\\isabe\\AppData\\Local\\Temp\\ipykernel_24532\\2834902002.py:43: SettingWithCopyWarning: \n",
      "A value is trying to be set on a copy of a slice from a DataFrame.\n",
      "Try using .loc[row_indexer,col_indexer] = value instead\n",
      "\n",
      "See the caveats in the documentation: https://pandas.pydata.org/pandas-docs/stable/user_guide/indexing.html#returning-a-view-versus-a-copy\n",
      "  us_airbnb[\"City\"] = us_airbnb[\"City\"].apply(drop_state)\n"
     ]
    }
   ],
   "execution_count": 45
  },
  {
   "metadata": {},
   "cell_type": "markdown",
   "source": [
    "## 8. Check for Missing Values\n",
    "We check for any missing values in the dataset."
   ],
   "id": "7c3bfa79826ed6b4"
  },
  {
   "metadata": {
    "ExecuteTime": {
     "end_time": "2025-03-03T03:40:08.302796Z",
     "start_time": "2025-03-03T03:40:08.243883Z"
    }
   },
   "cell_type": "code",
   "source": "us_airbnb.isna().sum().sort_values(ascending=False)",
   "id": "67d3072b8dbeb9d4",
   "outputs": [
    {
     "data": {
      "text/plain": [
       "Number of reviews per month    49937\n",
       "Date last review               49937\n",
       "Name                              32\n",
       "Room ID                            0\n",
       "Host ID                            0\n",
       "Neighbourhood                      0\n",
       "Room Price                         0\n",
       "Room type                          0\n",
       "Number of reviews                  0\n",
       "Minimum nights                     0\n",
       "Rooms rent by the host             0\n",
       "Availibility                       0\n",
       "Updated Date                       0\n",
       "City                               0\n",
       "Country                            0\n",
       "Location                           0\n",
       "Latitude                           0\n",
       "Longitude                          0\n",
       "dtype: int64"
      ]
     },
     "execution_count": 46,
     "metadata": {},
     "output_type": "execute_result"
    }
   ],
   "execution_count": 46
  },
  {
   "metadata": {},
   "cell_type": "markdown",
   "source": [
    "## 9. Handle Missing Data\n",
    "We fill or adjust missing values for specific columns."
   ],
   "id": "ac8813953e07fbe1"
  },
  {
   "metadata": {
    "ExecuteTime": {
     "end_time": "2025-03-03T03:40:08.452788Z",
     "start_time": "2025-03-03T03:40:08.333715Z"
    }
   },
   "cell_type": "code",
   "source": [
    "# Ensure we're working on a copy to avoid warnings\n",
    "final_airbnb_df = us_airbnb.copy()\n",
    "\n",
    "# Fill missing values for 'Number of reviews per month'\n",
    "final_airbnb_df['Number of reviews per month'] = final_airbnb_df['Number of reviews per month'].fillna(0)\n",
    "\n",
    "# Convert 'Date last review' to datetime and handle NaN values\n",
    "final_airbnb_df['Date last review'] = pd.to_datetime(final_airbnb_df['Date last review'])\n",
    "final_airbnb_df['Date last review'] = final_airbnb_df['Date last review'].fillna(pd.NaT)\n",
    "\n",
    "# Fill missing 'Name' values with a placeholder\n",
    "final_airbnb_df['Name'] = final_airbnb_df['Name'].fillna(\"Unnamed Listing\")"
   ],
   "id": "11860b9517a5204d",
   "outputs": [],
   "execution_count": 47
  },
  {
   "metadata": {},
   "cell_type": "markdown",
   "source": [
    "### Append State column\n",
    "Add a state column via geocoding for ease of creating relationships with the other datasets."
   ],
   "id": "f5b9a6d820ddad91"
  },
  {
   "metadata": {
    "ExecuteTime": {
     "end_time": "2025-03-03T03:40:08.498594Z",
     "start_time": "2025-03-03T03:40:08.470796Z"
    }
   },
   "cell_type": "code",
   "source": [
    "# Define a dictionary mapping city-like names to states\n",
    "city_to_state = {\n",
    "    \"New York\": \"NY\",\n",
    "    \"Los Angeles\": \"CA\",\n",
    "    \"Hawaii\": \"HI\",  # Entire state\n",
    "    \"San Diego\": \"CA\",\n",
    "    \"Broward County\": \"FL\",\n",
    "    \"Clark County\": \"NV\",\n",
    "    \"Austin\": \"TX\",\n",
    "    \"Washington, D.C.\": \"DC\",\n",
    "    \"Chicago\": \"IL\",\n",
    "    \"San Francisco\": \"CA\",\n",
    "    \"Santa Clara County\": \"CA\",\n",
    "    \"New Orleans\": \"LA\",\n",
    "    \"Nashville\": \"TN\",\n",
    "    \"Seattle\": \"WA\",\n",
    "    \"Twin Cities\": \"MN\",  # Minneapolis & St. Paul (MN)\n",
    "    \"Portland\": \"OR\",  # Assuming Portland, OR, not ME\n",
    "    \"Denver\": \"CO\",\n",
    "    \"Rhode Island\": \"RI\",  # Entire state\n",
    "    \"Boston\": \"MA\",\n",
    "    \"Oakland\": \"CA\",\n",
    "    \"San Mateo County\": \"CA\",\n",
    "    \"Jersey City\": \"NJ\",\n",
    "    \"Asheville\": \"NC\",\n",
    "    \"Santa Cruz County\": \"CA\",\n",
    "    \"Columbus\": \"OH\",\n",
    "    \"Cambridge\": \"MA\",\n",
    "    \"Salem\": \"OR\",  # Assuming Salem, OR, not MA\n",
    "    \"Pacific Grove\": \"CA\"\n",
    "}\n",
    "\n",
    "# Function to apply the mapping\n",
    "def map_city_to_state(city):\n",
    "    return city_to_state.get(city, \"Unknown\")  # Default to 'Unknown' if not found\n",
    "\n",
    "# Example usage with a dataset column\n",
    "final_airbnb_df[\"State\"] = final_airbnb_df[\"City\"].apply(map_city_to_state)"
   ],
   "id": "3608d169df04b662",
   "outputs": [],
   "execution_count": 48
  },
  {
   "metadata": {
    "ExecuteTime": {
     "end_time": "2025-03-03T03:40:59.881050Z",
     "start_time": "2025-03-03T03:40:59.871524Z"
    }
   },
   "cell_type": "code",
   "source": "final_airbnb_df[\"State\"].value_counts()",
   "id": "84d51353156c4d69",
   "outputs": [
    {
     "data": {
      "text/plain": [
       "State\n",
       "CA    70918\n",
       "NY    48588\n",
       "HI    22917\n",
       "FL    10858\n",
       "NV    10568\n",
       "TX    10321\n",
       "DC     8708\n",
       "IL     7628\n",
       "LA     6918\n",
       "TN     6848\n",
       "WA     6575\n",
       "MN     6470\n",
       "OR     4488\n",
       "MA     4469\n",
       "CO     4200\n",
       "RI     3884\n",
       "NJ     2488\n",
       "NC     2407\n",
       "OH     1409\n",
       "Name: count, dtype: int64"
      ]
     },
     "execution_count": 50,
     "metadata": {},
     "output_type": "execute_result"
    }
   ],
   "execution_count": 50
  },
  {
   "metadata": {},
   "cell_type": "markdown",
   "source": [
    "## 10. Save the Cleaned Dataset\n",
    "Finally, we save the cleaned dataset for further analysis."
   ],
   "id": "b0dc71cadc72e2af"
  },
  {
   "metadata": {
    "ExecuteTime": {
     "end_time": "2025-03-03T03:40:09.993139Z",
     "start_time": "2025-03-03T03:40:08.504698Z"
    }
   },
   "cell_type": "code",
   "source": [
    "# Save Cleaned Dataset\n",
    "final_airbnb_df.to_csv(\n",
    "    r\"C:\\Users\\isabe\\PycharmProjects\\GSB-520-ETL\\Clean Data\\cleaned_airbnb_data.csv\", index=False)\n"
   ],
   "id": "701738829e9dbf74",
   "outputs": [],
   "execution_count": 49
  }
 ],
 "metadata": {
  "kernelspec": {
   "display_name": "Python 3",
   "language": "python",
   "name": "python3"
  },
  "language_info": {
   "codemirror_mode": {
    "name": "ipython",
    "version": 2
   },
   "file_extension": ".py",
   "mimetype": "text/x-python",
   "name": "python",
   "nbconvert_exporter": "python",
   "pygments_lexer": "ipython2",
   "version": "2.7.6"
  }
 },
 "nbformat": 4,
 "nbformat_minor": 5
}
