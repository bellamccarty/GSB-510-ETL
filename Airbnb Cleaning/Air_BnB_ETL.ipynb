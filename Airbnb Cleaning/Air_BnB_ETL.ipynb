{
 "cells": [
  {
   "metadata": {},
   "cell_type": "raw",
   "source": [
    "---\n",
    "title: \"Air BnB Listings ETl\"\n",
    "author: \"GSB 510 Group 4\"\n",
    "date: \"03-02-2025\"\n",
    "format: \n",
    "  html:\n",
    "    toc: true\n",
    "    code-fold: true\n",
    "    theme: minty\n",
    "    code-line-numbers: true\n",
    "    code-tools: true\n",
    "    self-contained: true\n",
    "execute:\n",
    "  message: false\n",
    "  warning: false\n",
    "---"
   ],
   "id": "13683d61f531066"
  },
  {
   "metadata": {},
   "cell_type": "markdown",
   "source": [
    "# Airbnb Listings ETL\n",
    "This notebook performs an **Extract, Transform, Load (ETL)** process on Airbnb listings data."
   ],
   "id": "f48b16e9323f2967"
  },
  {
   "metadata": {},
   "cell_type": "markdown",
   "source": [
    "## 1. Import Libraries\n",
    "We begin by importing necessary Python libraries for data manipulation and analysis."
   ],
   "id": "a1511b207543d70d"
  },
  {
   "cell_type": "code",
   "id": "initial_id",
   "metadata": {
    "collapsed": true,
    "ExecuteTime": {
     "end_time": "2025-02-27T04:18:02.007666Z",
     "start_time": "2025-02-27T04:18:02.005297Z"
    }
   },
   "source": [
    "import re\n",
    "import pandas as pd\n",
    "import numpy as np"
   ],
   "outputs": [],
   "execution_count": 179
  },
  {
   "metadata": {},
   "cell_type": "markdown",
   "source": [
    "## 2. Load the Data\n",
    "We read the Airbnb listings dataset from a CSV file. The separator used in the file is `;`, which needs to be specified."
   ],
   "id": "7b482069ac11adaf"
  },
  {
   "metadata": {
    "ExecuteTime": {
     "end_time": "2025-02-27T04:18:05.837725Z",
     "start_time": "2025-02-27T04:18:02.041676Z"
    }
   },
   "cell_type": "code",
   "source": [
    "air_bnb_data = pd.read_csv(r\"C:\\Users\\isabe\\PycharmProjects\\GSB 520 ETL\\Data\\air-bnb-listings.csv\",\n",
    "                           sep = \";\")"
   ],
   "id": "e2910220e040ea6",
   "outputs": [],
   "execution_count": 180
  },
  {
   "metadata": {},
   "cell_type": "markdown",
   "source": [
    "## 3. Preview the Data\n",
    "We display the first few rows to understand the dataset structure."
   ],
   "id": "4de29f415595b3cc"
  },
  {
   "metadata": {
    "ExecuteTime": {
     "end_time": "2025-02-27T04:18:05.861207Z",
     "start_time": "2025-02-27T04:18:05.852731Z"
    }
   },
   "cell_type": "code",
   "source": "air_bnb_data.head()",
   "id": "80268375258a5e3f",
   "outputs": [
    {
     "data": {
      "text/plain": [
       "   Room ID                                Name   Host ID   Neighbourhood  \\\n",
       "0  9153958  .2 La Casa sui Tetti dell'Oltrarno  47655975  Centro Storico   \n",
       "1  9191572         Firenze Studio Porta Romana  47816872  Centro Storico   \n",
       "2  9306481   ELEGANT FLAT FLORENCE CITY CENTER  42112573  Centro Storico   \n",
       "3  9524225     Luxury Modern Studio - Florence  11065786  Campo di Marte   \n",
       "4  9602552                 Florence is a dream    956926  Campo di Marte   \n",
       "\n",
       "         Room type  Room Price  Minimum nights  Number of reviews  \\\n",
       "0  Entire home/apt          50               1                363   \n",
       "1  Entire home/apt          70               2                 46   \n",
       "2  Entire home/apt         120               2                132   \n",
       "3  Entire home/apt          75               3                 56   \n",
       "4  Entire home/apt          50               2                 24   \n",
       "\n",
       "  Date last review  Number of reviews per month  Rooms rent by the host  \\\n",
       "0       2020-02-17                         6.69                       2   \n",
       "1       2018-03-15                         0.83                       1   \n",
       "2       2020-01-29                         2.42                       1   \n",
       "3       2019-12-30                         1.01                       5   \n",
       "4       2018-10-27                         0.44                       1   \n",
       "\n",
       "   Availibility Updated Date      City Country  \\\n",
       "0             0   2020-06-19  Florence   Italy   \n",
       "1           364   2020-06-19  Florence   Italy   \n",
       "2           270   2020-06-19  Florence   Italy   \n",
       "3           364   2020-06-19  Florence   Italy   \n",
       "4           365   2020-06-19  Florence   Italy   \n",
       "\n",
       "                              Coordinates                         Location  \n",
       "0    43.76678908298443, 11.24589003597409  Italy, Florence, Centro Storico  \n",
       "1    43.76544742217545, 11.24254982481698  Italy, Florence, Centro Storico  \n",
       "2  43.779967029995476, 11.261314413194068  Italy, Florence, Centro Storico  \n",
       "3   43.76815640280208, 11.275230547227133  Italy, Florence, Campo di Marte  \n",
       "4   43.78809311664643, 11.273347846180846  Italy, Florence, Campo di Marte  "
      ],
      "text/html": [
       "<div>\n",
       "<style scoped>\n",
       "    .dataframe tbody tr th:only-of-type {\n",
       "        vertical-align: middle;\n",
       "    }\n",
       "\n",
       "    .dataframe tbody tr th {\n",
       "        vertical-align: top;\n",
       "    }\n",
       "\n",
       "    .dataframe thead th {\n",
       "        text-align: right;\n",
       "    }\n",
       "</style>\n",
       "<table border=\"1\" class=\"dataframe\">\n",
       "  <thead>\n",
       "    <tr style=\"text-align: right;\">\n",
       "      <th></th>\n",
       "      <th>Room ID</th>\n",
       "      <th>Name</th>\n",
       "      <th>Host ID</th>\n",
       "      <th>Neighbourhood</th>\n",
       "      <th>Room type</th>\n",
       "      <th>Room Price</th>\n",
       "      <th>Minimum nights</th>\n",
       "      <th>Number of reviews</th>\n",
       "      <th>Date last review</th>\n",
       "      <th>Number of reviews per month</th>\n",
       "      <th>Rooms rent by the host</th>\n",
       "      <th>Availibility</th>\n",
       "      <th>Updated Date</th>\n",
       "      <th>City</th>\n",
       "      <th>Country</th>\n",
       "      <th>Coordinates</th>\n",
       "      <th>Location</th>\n",
       "    </tr>\n",
       "  </thead>\n",
       "  <tbody>\n",
       "    <tr>\n",
       "      <th>0</th>\n",
       "      <td>9153958</td>\n",
       "      <td>.2 La Casa sui Tetti dell'Oltrarno</td>\n",
       "      <td>47655975</td>\n",
       "      <td>Centro Storico</td>\n",
       "      <td>Entire home/apt</td>\n",
       "      <td>50</td>\n",
       "      <td>1</td>\n",
       "      <td>363</td>\n",
       "      <td>2020-02-17</td>\n",
       "      <td>6.69</td>\n",
       "      <td>2</td>\n",
       "      <td>0</td>\n",
       "      <td>2020-06-19</td>\n",
       "      <td>Florence</td>\n",
       "      <td>Italy</td>\n",
       "      <td>43.76678908298443, 11.24589003597409</td>\n",
       "      <td>Italy, Florence, Centro Storico</td>\n",
       "    </tr>\n",
       "    <tr>\n",
       "      <th>1</th>\n",
       "      <td>9191572</td>\n",
       "      <td>Firenze Studio Porta Romana</td>\n",
       "      <td>47816872</td>\n",
       "      <td>Centro Storico</td>\n",
       "      <td>Entire home/apt</td>\n",
       "      <td>70</td>\n",
       "      <td>2</td>\n",
       "      <td>46</td>\n",
       "      <td>2018-03-15</td>\n",
       "      <td>0.83</td>\n",
       "      <td>1</td>\n",
       "      <td>364</td>\n",
       "      <td>2020-06-19</td>\n",
       "      <td>Florence</td>\n",
       "      <td>Italy</td>\n",
       "      <td>43.76544742217545, 11.24254982481698</td>\n",
       "      <td>Italy, Florence, Centro Storico</td>\n",
       "    </tr>\n",
       "    <tr>\n",
       "      <th>2</th>\n",
       "      <td>9306481</td>\n",
       "      <td>ELEGANT FLAT FLORENCE CITY CENTER</td>\n",
       "      <td>42112573</td>\n",
       "      <td>Centro Storico</td>\n",
       "      <td>Entire home/apt</td>\n",
       "      <td>120</td>\n",
       "      <td>2</td>\n",
       "      <td>132</td>\n",
       "      <td>2020-01-29</td>\n",
       "      <td>2.42</td>\n",
       "      <td>1</td>\n",
       "      <td>270</td>\n",
       "      <td>2020-06-19</td>\n",
       "      <td>Florence</td>\n",
       "      <td>Italy</td>\n",
       "      <td>43.779967029995476, 11.261314413194068</td>\n",
       "      <td>Italy, Florence, Centro Storico</td>\n",
       "    </tr>\n",
       "    <tr>\n",
       "      <th>3</th>\n",
       "      <td>9524225</td>\n",
       "      <td>Luxury Modern Studio - Florence</td>\n",
       "      <td>11065786</td>\n",
       "      <td>Campo di Marte</td>\n",
       "      <td>Entire home/apt</td>\n",
       "      <td>75</td>\n",
       "      <td>3</td>\n",
       "      <td>56</td>\n",
       "      <td>2019-12-30</td>\n",
       "      <td>1.01</td>\n",
       "      <td>5</td>\n",
       "      <td>364</td>\n",
       "      <td>2020-06-19</td>\n",
       "      <td>Florence</td>\n",
       "      <td>Italy</td>\n",
       "      <td>43.76815640280208, 11.275230547227133</td>\n",
       "      <td>Italy, Florence, Campo di Marte</td>\n",
       "    </tr>\n",
       "    <tr>\n",
       "      <th>4</th>\n",
       "      <td>9602552</td>\n",
       "      <td>Florence is a dream</td>\n",
       "      <td>956926</td>\n",
       "      <td>Campo di Marte</td>\n",
       "      <td>Entire home/apt</td>\n",
       "      <td>50</td>\n",
       "      <td>2</td>\n",
       "      <td>24</td>\n",
       "      <td>2018-10-27</td>\n",
       "      <td>0.44</td>\n",
       "      <td>1</td>\n",
       "      <td>365</td>\n",
       "      <td>2020-06-19</td>\n",
       "      <td>Florence</td>\n",
       "      <td>Italy</td>\n",
       "      <td>43.78809311664643, 11.273347846180846</td>\n",
       "      <td>Italy, Florence, Campo di Marte</td>\n",
       "    </tr>\n",
       "  </tbody>\n",
       "</table>\n",
       "</div>"
      ]
     },
     "execution_count": 181,
     "metadata": {},
     "output_type": "execute_result"
    }
   ],
   "execution_count": 181
  },
  {
   "metadata": {},
   "cell_type": "markdown",
   "source": [
    "## 4. Analyze Country Distribution\n",
    "We count the number of listings per country."
   ],
   "id": "da10ab703be720"
  },
  {
   "metadata": {
    "ExecuteTime": {
     "end_time": "2025-02-27T04:18:05.947738Z",
     "start_time": "2025-02-27T04:18:05.894387Z"
    }
   },
   "cell_type": "code",
   "source": "air_bnb_data[\"Country\"].value_counts()",
   "id": "a2eb865ec0efcd05",
   "outputs": [
    {
     "data": {
      "text/plain": [
       "Country\n",
       "United states     240662\n",
       "Italy             179607\n",
       "Spain             109219\n",
       "United kingdom    103964\n",
       "France             90621\n",
       "Australia          89580\n",
       "China              88885\n",
       "Greece             57646\n",
       "Canada             56659\n",
       "Ireland            35996\n",
       "Germany            35985\n",
       "Portugal           35965\n",
       "Brazil             35731\n",
       "Denmark            28523\n",
       "Argentina          24134\n",
       "South africa       24062\n",
       "Turkey             23728\n",
       "Mexico             21824\n",
       "Netherlands        19450\n",
       "Chile              15970\n",
       "Japan              14715\n",
       "Austria            12974\n",
       "Belgium            12808\n",
       "Czech republic     12565\n",
       "Norway              8830\n",
       "Taiwan              8103\n",
       "Switzerland         7894\n",
       "Sweden              7635\n",
       "Singapore           7323\n",
       "Belize              2960\n",
       "Name: count, dtype: int64"
      ]
     },
     "execution_count": 182,
     "metadata": {},
     "output_type": "execute_result"
    }
   ],
   "execution_count": 182
  },
  {
   "metadata": {},
   "cell_type": "markdown",
   "source": [
    "## 5. Filter down to U.S. Data\n",
    "We filter the listings down to those located in the United States. "
   ],
   "id": "6640d76f7ffccdbe"
  },
  {
   "metadata": {
    "ExecuteTime": {
     "end_time": "2025-02-27T04:18:06.063773Z",
     "start_time": "2025-02-27T04:18:05.988254Z"
    }
   },
   "cell_type": "code",
   "source": "us_airbnb = air_bnb_data[air_bnb_data[\"Country\"] == \"United states\"]",
   "id": "5b37baead71e7503",
   "outputs": [],
   "execution_count": 183
  },
  {
   "metadata": {},
   "cell_type": "markdown",
   "source": [
    "## 6. Process Location Data\n",
    "We extract latitude and longitude from the 'Coordinates' column and convert them to numerical values."
   ],
   "id": "3dabe97171b69b91"
  },
  {
   "metadata": {
    "ExecuteTime": {
     "end_time": "2025-02-27T04:18:06.840771Z",
     "start_time": "2025-02-27T04:18:06.118050Z"
    }
   },
   "cell_type": "code",
   "source": [
    "# Splitting the 'Coordinates' column into 'Latitude' and 'Longitude'\n",
    "us_airbnb[['Latitude', 'Longitude']] = us_airbnb['Coordinates'].str.split(', ', expand=True)\n",
    "\n",
    "# Convert Latitude and Longitude to float for numerical operations\n",
    "us_airbnb.loc[:, 'Latitude'] = us_airbnb['Latitude'].astype(float)\n",
    "us_airbnb.loc[:, 'Longitude'] = us_airbnb['Longitude'].astype(float)\n",
    "\n",
    "# Dropping the original 'Coordinates' column\n",
    "us_airbnb.drop(columns=['Coordinates'], inplace=True)"
   ],
   "id": "4b89c7e042f53719",
   "outputs": [
    {
     "name": "stderr",
     "output_type": "stream",
     "text": [
      "C:\\Users\\isabe\\AppData\\Local\\Temp\\ipykernel_24900\\1967335914.py:2: SettingWithCopyWarning: \n",
      "A value is trying to be set on a copy of a slice from a DataFrame.\n",
      "Try using .loc[row_indexer,col_indexer] = value instead\n",
      "\n",
      "See the caveats in the documentation: https://pandas.pydata.org/pandas-docs/stable/user_guide/indexing.html#returning-a-view-versus-a-copy\n",
      "  us_airbnb[['Latitude', 'Longitude']] = us_airbnb['Coordinates'].str.split(', ', expand=True)\n",
      "C:\\Users\\isabe\\AppData\\Local\\Temp\\ipykernel_24900\\1967335914.py:2: SettingWithCopyWarning: \n",
      "A value is trying to be set on a copy of a slice from a DataFrame.\n",
      "Try using .loc[row_indexer,col_indexer] = value instead\n",
      "\n",
      "See the caveats in the documentation: https://pandas.pydata.org/pandas-docs/stable/user_guide/indexing.html#returning-a-view-versus-a-copy\n",
      "  us_airbnb[['Latitude', 'Longitude']] = us_airbnb['Coordinates'].str.split(', ', expand=True)\n",
      "C:\\Users\\isabe\\AppData\\Local\\Temp\\ipykernel_24900\\1967335914.py:9: SettingWithCopyWarning: \n",
      "A value is trying to be set on a copy of a slice from a DataFrame\n",
      "\n",
      "See the caveats in the documentation: https://pandas.pydata.org/pandas-docs/stable/user_guide/indexing.html#returning-a-view-versus-a-copy\n",
      "  us_airbnb.drop(columns=['Coordinates'], inplace=True)\n"
     ]
    }
   ],
   "execution_count": 184
  },
  {
   "metadata": {},
   "cell_type": "markdown",
   "source": [
    "## 7. Standardize City Names\n",
    "We clean and standardize city names by replacing hyphens with spaces, capitalizing abbreviations, and removing unnecessary state abbreviations."
   ],
   "id": "8b455a3096a549ce"
  },
  {
   "metadata": {
    "ExecuteTime": {
     "end_time": "2025-02-27T04:18:07.294195Z",
     "start_time": "2025-02-27T04:18:06.939242Z"
    }
   },
   "cell_type": "code",
   "source": [
    "# Clean the city names: replace hyphens with spaces and convert to title case\n",
    "us_airbnb['City'] = us_airbnb['City'].str.replace(\"-\", \" \").str.title()\n",
    "\n",
    "# Define a mapping for abbreviations that should be fully capitalized.\n",
    "abbrev_map = {\n",
    "    'Dc': 'DC',\n",
    "    'Nv': 'NV',\n",
    "    'Msa': 'MSA',\n",
    "    'Or': 'OR'\n",
    "}\n",
    "\n",
    "def capitalize_abbrev(city):\n",
    "    # Split the city name into words\n",
    "    words = city.split()\n",
    "    # Replace any word found in our abbreviation map with its uppercase version\n",
    "    words = [abbrev_map.get(word, word) for word in words]\n",
    "    # Rejoin the words into a string\n",
    "    return \" \".join(words)\n",
    "\n",
    "# Apply the function to the cleaned city names\n",
    "us_airbnb['City'] = us_airbnb['City'].apply(capitalize_abbrev)\n",
    "\n",
    "# Adjust specific city names (e.g., \"New York City\" to \"New York\")\n",
    "def adjust_city_name(city):\n",
    "    if city == \"New York City\":\n",
    "        return \"New York\"\n",
    "    return city\n",
    "\n",
    "us_airbnb['City'] = us_airbnb['City'].apply(adjust_city_name)\n",
    "\n",
    "def drop_state(city):\n",
    "    \"\"\"\n",
    "    Remove a trailing state abbreviation (a space followed by 2+ uppercase letters)\n",
    "    from the city name unless the city is \"Washington DC\".\n",
    "    \"\"\"\n",
    "    # If the city is \"Washington DC\", keep it as-is (case-insensitive comparison)\n",
    "    if city.strip().lower() == \"washington dc\":\n",
    "        return \"Washington, D.C.\"\n",
    "    # Otherwise, remove trailing state abbreviation\n",
    "    return re.sub(r'\\s+[A-Z]{2,}$', '', city)\n",
    "\n",
    "# Apply the function to the 'City' column and store the result in a new column\n",
    "us_airbnb[\"City\"] = us_airbnb[\"City\"].apply(drop_state)"
   ],
   "id": "4a5531c0de15b6c7",
   "outputs": [
    {
     "name": "stderr",
     "output_type": "stream",
     "text": [
      "C:\\Users\\isabe\\AppData\\Local\\Temp\\ipykernel_24900\\3224347339.py:2: SettingWithCopyWarning: \n",
      "A value is trying to be set on a copy of a slice from a DataFrame.\n",
      "Try using .loc[row_indexer,col_indexer] = value instead\n",
      "\n",
      "See the caveats in the documentation: https://pandas.pydata.org/pandas-docs/stable/user_guide/indexing.html#returning-a-view-versus-a-copy\n",
      "  us_airbnb['City'] = us_airbnb['City'].str.replace(\"-\", \" \").str.title()\n",
      "C:\\Users\\isabe\\AppData\\Local\\Temp\\ipykernel_24900\\3224347339.py:21: SettingWithCopyWarning: \n",
      "A value is trying to be set on a copy of a slice from a DataFrame.\n",
      "Try using .loc[row_indexer,col_indexer] = value instead\n",
      "\n",
      "See the caveats in the documentation: https://pandas.pydata.org/pandas-docs/stable/user_guide/indexing.html#returning-a-view-versus-a-copy\n",
      "  us_airbnb['City'] = us_airbnb['City'].apply(capitalize_abbrev)\n",
      "C:\\Users\\isabe\\AppData\\Local\\Temp\\ipykernel_24900\\3224347339.py:29: SettingWithCopyWarning: \n",
      "A value is trying to be set on a copy of a slice from a DataFrame.\n",
      "Try using .loc[row_indexer,col_indexer] = value instead\n",
      "\n",
      "See the caveats in the documentation: https://pandas.pydata.org/pandas-docs/stable/user_guide/indexing.html#returning-a-view-versus-a-copy\n",
      "  us_airbnb['City'] = us_airbnb['City'].apply(adjust_city_name)\n",
      "C:\\Users\\isabe\\AppData\\Local\\Temp\\ipykernel_24900\\3224347339.py:43: SettingWithCopyWarning: \n",
      "A value is trying to be set on a copy of a slice from a DataFrame.\n",
      "Try using .loc[row_indexer,col_indexer] = value instead\n",
      "\n",
      "See the caveats in the documentation: https://pandas.pydata.org/pandas-docs/stable/user_guide/indexing.html#returning-a-view-versus-a-copy\n",
      "  us_airbnb[\"City\"] = us_airbnb[\"City\"].apply(drop_state)\n"
     ]
    }
   ],
   "execution_count": 187
  },
  {
   "metadata": {},
   "cell_type": "markdown",
   "source": [
    "## 8. Check for Missing Values\n",
    "We check for any missing values in the dataset."
   ],
   "id": "7c3bfa79826ed6b4"
  },
  {
   "metadata": {
    "ExecuteTime": {
     "end_time": "2025-02-27T04:18:07.487971Z",
     "start_time": "2025-02-27T04:18:07.429071Z"
    }
   },
   "cell_type": "code",
   "source": "us_airbnb.isna().sum().sort_values(ascending=False)",
   "id": "67d3072b8dbeb9d4",
   "outputs": [
    {
     "data": {
      "text/plain": [
       "Number of reviews per month    49937\n",
       "Date last review               49937\n",
       "Name                              32\n",
       "Room ID                            0\n",
       "Host ID                            0\n",
       "Neighbourhood                      0\n",
       "Room Price                         0\n",
       "Room type                          0\n",
       "Number of reviews                  0\n",
       "Minimum nights                     0\n",
       "Rooms rent by the host             0\n",
       "Availibility                       0\n",
       "Updated Date                       0\n",
       "City                               0\n",
       "Country                            0\n",
       "Location                           0\n",
       "Latitude                           0\n",
       "Longitude                          0\n",
       "dtype: int64"
      ]
     },
     "execution_count": 189,
     "metadata": {},
     "output_type": "execute_result"
    }
   ],
   "execution_count": 189
  },
  {
   "metadata": {},
   "cell_type": "markdown",
   "source": [
    "## 9. Handle Missing Data\n",
    "We fill or adjust missing values for specific columns."
   ],
   "id": "ac8813953e07fbe1"
  },
  {
   "metadata": {
    "ExecuteTime": {
     "end_time": "2025-02-27T04:18:07.640320Z",
     "start_time": "2025-02-27T04:18:07.523177Z"
    }
   },
   "cell_type": "code",
   "source": [
    "# Ensure we're working on a copy to avoid warnings\n",
    "final_airbnb_df = us_airbnb.copy()\n",
    "\n",
    "# Fill missing values for 'Number of reviews per month'\n",
    "final_airbnb_df['Number of reviews per month'] = final_airbnb_df['Number of reviews per month'].fillna(0)\n",
    "\n",
    "# Convert 'Date last review' to datetime and handle NaN values\n",
    "final_airbnb_df['Date last review'] = pd.to_datetime(final_airbnb_df['Date last review'])\n",
    "final_airbnb_df['Date last review'] = final_airbnb_df['Date last review'].fillna(pd.NaT)\n",
    "\n",
    "# Fill missing 'Name' values with a placeholder\n",
    "final_airbnb_df['Name'] = final_airbnb_df['Name'].fillna(\"Unnamed Listing\")"
   ],
   "id": "11860b9517a5204d",
   "outputs": [],
   "execution_count": 190
  },
  {
   "metadata": {},
   "cell_type": "markdown",
   "source": [
    "## 10. Save the Cleaned Dataset\n",
    "Finally, we save the cleaned dataset for further analysis."
   ],
   "id": "b0dc71cadc72e2af"
  },
  {
   "metadata": {
    "ExecuteTime": {
     "end_time": "2025-02-27T04:18:09.223342Z",
     "start_time": "2025-02-27T04:18:07.657338Z"
    }
   },
   "cell_type": "code",
   "source": [
    "# Save Cleaned Dataset\n",
    "final_airbnb_df.to_csv(\n",
    "    r\"C:\\Users\\isabe\\PycharmProjects\\GSB 520 ETL\\Clean Data\\cleaned_airbnb_data.csv\", index=False)\n"
   ],
   "id": "701738829e9dbf74",
   "outputs": [],
   "execution_count": 191
  }
 ],
 "metadata": {
  "kernelspec": {
   "display_name": "Python 3",
   "language": "python",
   "name": "python3"
  },
  "language_info": {
   "codemirror_mode": {
    "name": "ipython",
    "version": 2
   },
   "file_extension": ".py",
   "mimetype": "text/x-python",
   "name": "python",
   "nbconvert_exporter": "python",
   "pygments_lexer": "ipython2",
   "version": "2.7.6"
  }
 },
 "nbformat": 4,
 "nbformat_minor": 5
}
